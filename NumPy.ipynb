{
 "cells": [
  {
   "cell_type": "markdown",
   "id": "d704aa3b",
   "metadata": {},
   "source": [
    "# NumPy Course - From Beginning to Advanced"
   ]
  },
  {
   "cell_type": "markdown",
   "id": "dfa37f4c",
   "metadata": {},
   "source": [
    "# 1. INTRODUCTION"
   ]
  },
  {
   "cell_type": "markdown",
   "id": "50d1839a",
   "metadata": {},
   "source": [
    "#### 1. The full form of NumPy is Numerical Python.\n",
    "#### 2. It is used for faster calculations and matrix operations.\n",
    "#### 3. Created by Travis Oliphant in 2005."
   ]
  },
  {
   "cell_type": "code",
   "execution_count": 1,
   "id": "6e9b9daf",
   "metadata": {
    "vscode": {
     "languageId": "powershell"
    }
   },
   "outputs": [
    {
     "name": "stdout",
     "output_type": "stream",
     "text": [
      "Requirement already satisfied: numpy in c:\\users\\sagni\\appdata\\local\\programs\\python\\python313\\lib\\site-packages (2.2.6)\n",
      "Note: you may need to restart the kernel to use updated packages.\n"
     ]
    }
   ],
   "source": [
    "pip install numpy"
   ]
  },
  {
   "cell_type": "markdown",
   "id": "068b07a5",
   "metadata": {},
   "source": [
    "#### The command above lets us install the NumPy library so we can use it for tasks like Data Analytics, Data Science, and much more. Just paste this command into your PowerShell to get started."
   ]
  },
  {
   "cell_type": "markdown",
   "id": "78ea0c03",
   "metadata": {},
   "source": [
    "#### If it doesn’t work, we may need to install pip first. You can find the pip installation command on Google or simply ask any AI tool. And yes—using AI tools is not cheating. Myth busted!"
   ]
  },
  {
   "cell_type": "markdown",
   "id": "b168cfd4",
   "metadata": {},
   "source": [
    "#### After installing pip, then we can paste the give \"pip install numpy\" command now. Easy!"
   ]
  },
  {
   "cell_type": "code",
   "execution_count": 2,
   "id": "a438a906",
   "metadata": {},
   "outputs": [],
   "source": [
    "import numpy as np"
   ]
  },
  {
   "cell_type": "markdown",
   "id": "72b455d8",
   "metadata": {},
   "source": [
    "#### This command is the starting point of our NumPy journey. It’s important because it enables NumPy in our working environment—whether that’s VS Code, Jupyter Notebook, or any other platform."
   ]
  },
  {
   "cell_type": "markdown",
   "id": "d0b92740",
   "metadata": {},
   "source": [
    "#### np isn’t strictly necessary to show that NumPy is imported—it’s just a convention to remind us that np refers to NumPy. You could use any name instead, as long as you don’t change the functions, operators, or specific symbols from the library."
   ]
  },
  {
   "cell_type": "markdown",
   "id": "f549fa58",
   "metadata": {},
   "source": [
    "### Well, that's enough theory, let's do some practical."
   ]
  },
  {
   "cell_type": "markdown",
   "id": "6ad39754",
   "metadata": {},
   "source": [
    "#### I already imported this library, so no need to write it over and over."
   ]
  },
  {
   "cell_type": "markdown",
   "id": "ff2ef6b8",
   "metadata": {},
   "source": [
    "## Difference between Arrays and Lists"
   ]
  },
  {
   "cell_type": "markdown",
   "id": "bfdf8f9f",
   "metadata": {},
   "source": [
    "#### There i made a table below this code, for better visualization of Table Format, to make it easy how much Lists and Arrays are different from each other in Python."
   ]
  },
  {
   "cell_type": "code",
   "execution_count": 3,
   "id": "ce2ad6b7",
   "metadata": {},
   "outputs": [
    {
     "data": {
      "text/markdown": [
       "| Feature                                   | Arrays (NumPy)                     | Lists (Python)                      |\n",
       "|-------------------------------------------|------------------------------------|-------------------------------------|\n",
       "| ***Space Requirement***                   | Require less space                 | Require more space                  |\n",
       "| ***Efficiency for Numerical Operations*** | More efficient                     | Less efficient                      |\n",
       "| ***Speed for Mathematical Computations*** | Faster                             | Slower                              |\n",
       "| ***Dimensions***                          | Can be multi-dimensional           | One-dimensional                     |\n",
       "| ***Data Type Support***                   | Single data type (homogeneous)     | Multiple data types (heterogeneous) |\n",
       "| ***Memory Storage***                      | Continuous memory blocks           | Scattered memory locations          |\n",
       "| ***Vectorization***                       | Supports vectorized operations     | No vectorization, needs loops       |\n",
       "| ***Ease of Use***                         | Requires NumPy knowledge           | Easier for beginners in Python      |\n",
       "| ***Performance for Large Data***          | High performance                   | Low performance                     |\n",
       "| ***Built-in Math Functions***             | Rich set of mathematical functions | Fewer built-in math functions       |"
      ],
      "text/plain": [
       "<IPython.core.display.Markdown object>"
      ]
     },
     "metadata": {},
     "output_type": "display_data"
    }
   ],
   "source": [
    "from tabulate import tabulate  # For nice table formatting\n",
    "\n",
    "# Data for the table (features are bolded using Markdown)\n",
    "table = [\n",
    "    [\"***Space Requirement***\", \"Require less space\", \"Require more space\"],\n",
    "    [\"***Efficiency for Numerical Operations***\", \"More efficient\", \"Less efficient\"],\n",
    "    [\"***Speed for Mathematical Computations***\", \"Faster\", \"Slower\"],\n",
    "    [\"***Dimensions***\", \"Can be multi-dimensional\", \"One-dimensional\"],\n",
    "    [\"***Data Type Support***\", \"Single data type (homogeneous)\", \"Multiple data types (heterogeneous)\"],\n",
    "    [\"***Memory Storage***\", \"Continuous memory blocks\", \"Scattered memory locations\"],\n",
    "    [\"***Vectorization***\", \"Supports vectorized operations\", \"No vectorization, needs loops\"],\n",
    "    [\"***Ease of Use***\", \"Requires NumPy knowledge\", \"Easier for beginners in Python\"],\n",
    "    [\"***Performance for Large Data***\", \"High performance\", \"Low performance\"],\n",
    "    [\"***Built-in Math Functions***\", \"Rich set of mathematical functions\", \"Fewer built-in math functions\"]\n",
    "]\n",
    "\n",
    "# Column headers\n",
    "headers = [\"Feature\", \"Arrays (NumPy)\", \"Lists (Python)\"]\n",
    "\n",
    "# Display table in Jupyter (Markdown mode)\n",
    "from IPython.display import Markdown\n",
    "display(Markdown(tabulate(table, headers=headers, tablefmt=\"github\")))\n"
   ]
  },
  {
   "cell_type": "markdown",
   "id": "035d8ba8",
   "metadata": {},
   "source": [
    " # 2. ARRAY CREATION"
   ]
  },
  {
   "cell_type": "markdown",
   "id": "c4fbad5f",
   "metadata": {},
   "source": [
    "### 1. Creating an Array"
   ]
  },
  {
   "cell_type": "code",
   "execution_count": 4,
   "id": "7ae43792",
   "metadata": {},
   "outputs": [
    {
     "name": "stdout",
     "output_type": "stream",
     "text": [
      "[ 1  2  3  4  5  6  7  8  9 10]\n"
     ]
    }
   ],
   "source": [
    "list1 = [1,2,3,4,5,6,7,8,9,10] # list of numbers\n",
    "array1 = np.array(list1) # converting list to array\n",
    "print(array1) # printing the array"
   ]
  },
  {
   "cell_type": "markdown",
   "id": "49b1dc19",
   "metadata": {},
   "source": [
    "### 2. Creating Zero Matrix"
   ]
  },
  {
   "cell_type": "code",
   "execution_count": 5,
   "id": "9fffa8d1",
   "metadata": {},
   "outputs": [
    {
     "data": {
      "text/plain": [
       "array([[0., 0., 0., 0.],\n",
       "       [0., 0., 0., 0.],\n",
       "       [0., 0., 0., 0.]])"
      ]
     },
     "execution_count": 5,
     "metadata": {},
     "output_type": "execute_result"
    }
   ],
   "source": [
    "np.zeros((3, 4)) # creating a 3x4 array of zeros. 3 Rows and 4 Columns."
   ]
  },
  {
   "cell_type": "markdown",
   "id": "ff455489",
   "metadata": {},
   "source": [
    "### 3. Creating Ones Matrix"
   ]
  },
  {
   "cell_type": "code",
   "execution_count": 6,
   "id": "bdfae37c",
   "metadata": {},
   "outputs": [
    {
     "data": {
      "text/plain": [
       "array([[1., 1., 1., 1.],\n",
       "       [1., 1., 1., 1.],\n",
       "       [1., 1., 1., 1.]])"
      ]
     },
     "execution_count": 6,
     "metadata": {},
     "output_type": "execute_result"
    }
   ],
   "source": [
    "np.ones((3, 4)) # creating a 3x4 array of ones. 3 Rows and 4 Columns."
   ]
  },
  {
   "cell_type": "markdown",
   "id": "d8a7f3bf",
   "metadata": {},
   "source": [
    "### 4. Random Matrix"
   ]
  },
  {
   "cell_type": "code",
   "execution_count": 7,
   "id": "6ae96e09",
   "metadata": {},
   "outputs": [
    {
     "data": {
      "text/plain": [
       "array([[0.47607224, 0.49445318, 0.91831338, 0.2126603 ],\n",
       "       [0.73438467, 0.45393354, 0.35303008, 0.26336162],\n",
       "       [0.8364499 , 0.50167396, 0.50475309, 0.48244048]])"
      ]
     },
     "execution_count": 7,
     "metadata": {},
     "output_type": "execute_result"
    }
   ],
   "source": [
    "np.random.rand(3, 4) # creating a 3x4 array of random numbers. 3 Rows and 4 Columns of number between 0 and 1 only."
   ]
  },
  {
   "cell_type": "markdown",
   "id": "d9b4f8da",
   "metadata": {},
   "source": [
    "### 5. Arange Array of Numbers"
   ]
  },
  {
   "cell_type": "code",
   "execution_count": 8,
   "id": "4bf09b25",
   "metadata": {},
   "outputs": [
    {
     "data": {
      "text/plain": [
       "array([0, 1, 2, 3, 4, 5, 6, 7, 8, 9])"
      ]
     },
     "execution_count": 8,
     "metadata": {},
     "output_type": "execute_result"
    }
   ],
   "source": [
    "np.arange(10) # creating an array of numbers from 0 to 9."
   ]
  },
  {
   "cell_type": "markdown",
   "id": "0810099b",
   "metadata": {},
   "source": [
    "### 6. Linespace"
   ]
  },
  {
   "cell_type": "code",
   "execution_count": 9,
   "id": "6eae63d6",
   "metadata": {},
   "outputs": [
    {
     "data": {
      "text/plain": [
       "array([0.  , 0.25, 0.5 , 0.75, 1.  ])"
      ]
     },
     "execution_count": 9,
     "metadata": {},
     "output_type": "execute_result"
    }
   ],
   "source": [
    "np.linspace(0, 1, 5) # creating an array of 5 numbers evenly spaced between 0 and 1."
   ]
  },
  {
   "cell_type": "markdown",
   "id": "e72378d5",
   "metadata": {},
   "source": [
    "### 7. Identity Matrix"
   ]
  },
  {
   "cell_type": "code",
   "execution_count": 10,
   "id": "aa8a1cba",
   "metadata": {},
   "outputs": [
    {
     "data": {
      "text/plain": [
       "array([[1., 0., 0.],\n",
       "       [0., 1., 0.],\n",
       "       [0., 0., 1.]])"
      ]
     },
     "execution_count": 10,
     "metadata": {},
     "output_type": "execute_result"
    }
   ],
   "source": [
    "np.eye(3) # creating a 3x3 identity matrix."
   ]
  },
  {
   "cell_type": "markdown",
   "id": "030fb640",
   "metadata": {},
   "source": [
    "### 8. Diagonal Matrix"
   ]
  },
  {
   "cell_type": "code",
   "execution_count": 11,
   "id": "39a11b7e",
   "metadata": {},
   "outputs": [
    {
     "data": {
      "text/plain": [
       "array([[1, 0, 0],\n",
       "       [0, 2, 0],\n",
       "       [0, 0, 3]])"
      ]
     },
     "execution_count": 11,
     "metadata": {},
     "output_type": "execute_result"
    }
   ],
   "source": [
    "np.diag(np.array([1, 2, 3])) # creating a diagonal matrix with the given array as the diagonal elements."
   ]
  },
  {
   "cell_type": "markdown",
   "id": "c3262fa4",
   "metadata": {},
   "source": [
    "### 9. Empty Array"
   ]
  },
  {
   "cell_type": "code",
   "execution_count": 12,
   "id": "b5793b55",
   "metadata": {},
   "outputs": [
    {
     "data": {
      "text/plain": [
       "array([[0.47607224, 0.49445318, 0.91831338, 0.2126603 ],\n",
       "       [0.73438467, 0.45393354, 0.35303008, 0.26336162],\n",
       "       [0.8364499 , 0.50167396, 0.50475309, 0.48244048]])"
      ]
     },
     "execution_count": 12,
     "metadata": {},
     "output_type": "execute_result"
    }
   ],
   "source": [
    "np.empty((3, 4)) # creating an empty array of shape 3x4. The values are not initialized and can be anything."
   ]
  },
  {
   "cell_type": "markdown",
   "id": "a7b4c87c",
   "metadata": {},
   "source": [
    "# 3. DATATYPES AND ATTRIBUTES"
   ]
  },
  {
   "cell_type": "markdown",
   "id": "c15ff99f",
   "metadata": {},
   "source": [
    "## Data Types"
   ]
  },
  {
   "cell_type": "code",
   "execution_count": 13,
   "id": "41ecb1e7",
   "metadata": {},
   "outputs": [
    {
     "name": "stdout",
     "output_type": "stream",
     "text": [
      "[1 2 3 4 5 6 7 8 9]\n",
      "int64\n",
      "[1. 2. 3. 4. 5. 6. 7. 8. 9.]\n"
     ]
    }
   ],
   "source": [
    "list1 = [1,2,3,4,5,6,7,8,9]\n",
    "array1 = np.array(list1)\n",
    "print(array1)\n",
    "\n",
    "print(array1.dtype) # Displaying the data type of the array elements\n",
    "\n",
    "print(array1.astype(float)) # Converting the array to float type"
   ]
  },
  {
   "cell_type": "markdown",
   "id": "6f278a85",
   "metadata": {},
   "source": [
    "## Array Attributes"
   ]
  },
  {
   "cell_type": "markdown",
   "id": "320637ad",
   "metadata": {},
   "source": [
    "### Let's set an array for further uses in Attributes of NumPy array."
   ]
  },
  {
   "cell_type": "code",
   "execution_count": 14,
   "id": "fedfed49",
   "metadata": {},
   "outputs": [
    {
     "name": "stdout",
     "output_type": "stream",
     "text": [
      "[[ 1  2  3  4  5]\n",
      " [ 6  7  8  9 10]]\n"
     ]
    }
   ],
   "source": [
    "a = np.array([[1,2,3,4,5],[6,7,8,9,10]])\n",
    "print(a)"
   ]
  },
  {
   "cell_type": "markdown",
   "id": "5ba21076",
   "metadata": {},
   "source": [
    "### 1. Shape"
   ]
  },
  {
   "cell_type": "code",
   "execution_count": 15,
   "id": "d88359f9",
   "metadata": {},
   "outputs": [
    {
     "data": {
      "text/plain": [
       "(2, 5)"
      ]
     },
     "execution_count": 15,
     "metadata": {},
     "output_type": "execute_result"
    }
   ],
   "source": [
    "a.shape # It shows the shape of the array, which is (2, 5) meaning 2 rows and 5 columns."
   ]
  },
  {
   "cell_type": "markdown",
   "id": "0ccff652",
   "metadata": {},
   "source": [
    "### 2. Size"
   ]
  },
  {
   "cell_type": "code",
   "execution_count": 16,
   "id": "8ba21c93",
   "metadata": {},
   "outputs": [
    {
     "data": {
      "text/plain": [
       "10"
      ]
     },
     "execution_count": 16,
     "metadata": {},
     "output_type": "execute_result"
    }
   ],
   "source": [
    "a.size # It shows the total number of elements in the array, which is 10 in this case."
   ]
  },
  {
   "cell_type": "markdown",
   "id": "63ce3bf2",
   "metadata": {},
   "source": [
    "### 3. Number of Dimensions"
   ]
  },
  {
   "cell_type": "code",
   "execution_count": 17,
   "id": "784ab0db",
   "metadata": {},
   "outputs": [
    {
     "data": {
      "text/plain": [
       "2"
      ]
     },
     "execution_count": 17,
     "metadata": {},
     "output_type": "execute_result"
    }
   ],
   "source": [
    "a.ndim # It shows the number of dimensions of the array, which is 2 for a 2D array."
   ]
  },
  {
   "cell_type": "markdown",
   "id": "6b23bdda",
   "metadata": {},
   "source": [
    "### 4. Item Size"
   ]
  },
  {
   "cell_type": "code",
   "execution_count": 18,
   "id": "c2ca51ca",
   "metadata": {},
   "outputs": [
    {
     "data": {
      "text/plain": [
       "8"
      ]
     },
     "execution_count": 18,
     "metadata": {},
     "output_type": "execute_result"
    }
   ],
   "source": [
    "a.itemsize "
   ]
  },
  {
   "cell_type": "markdown",
   "id": "4fbfb8ae",
   "metadata": {},
   "source": [
    "### 5. Number of Bytes"
   ]
  },
  {
   "cell_type": "code",
   "execution_count": 19,
   "id": "69a47ce4",
   "metadata": {},
   "outputs": [
    {
     "data": {
      "text/plain": [
       "80"
      ]
     },
     "execution_count": 19,
     "metadata": {},
     "output_type": "execute_result"
    }
   ],
   "source": [
    "a.nbytes"
   ]
  },
  {
   "cell_type": "markdown",
   "id": "6d0086b8",
   "metadata": {},
   "source": [
    "# 4. INDEXING AND SLICING"
   ]
  },
  {
   "cell_type": "markdown",
   "id": "bf82c64a",
   "metadata": {},
   "source": [
    "### 1. Basic Indexing"
   ]
  },
  {
   "cell_type": "markdown",
   "id": "da60d10e",
   "metadata": {},
   "source": [
    "#### I can access elements in a NumPy array just like in Python lists, but it also supports multi-dimensional indexing."
   ]
  },
  {
   "cell_type": "code",
   "execution_count": 20,
   "id": "c8370996",
   "metadata": {},
   "outputs": [
    {
     "name": "stdout",
     "output_type": "stream",
     "text": [
      "10\n",
      "50\n"
     ]
    }
   ],
   "source": [
    "arr = np.array([10, 20, 30, 40, 50])\n",
    "print(arr[0])  # Accessing the first element of the array\n",
    "print(arr[-1])  # Accessing the last element of the array"
   ]
  },
  {
   "cell_type": "code",
   "execution_count": 21,
   "id": "6dc22983",
   "metadata": {},
   "outputs": [
    {
     "name": "stdout",
     "output_type": "stream",
     "text": [
      "10\n",
      "60\n"
     ]
    }
   ],
   "source": [
    "arr1 = np.array([[10, 20, 30],[40, 50, 60]])\n",
    "print(arr1[0, 0])  # Accessing the first element of the first row\n",
    "print(arr1[1, 2])  # Accessing the third element of the second row"
   ]
  },
  {
   "cell_type": "markdown",
   "id": "af859347",
   "metadata": {},
   "source": [
    "### 2. Slicing"
   ]
  },
  {
   "cell_type": "markdown",
   "id": "469aa1f1",
   "metadata": {},
   "source": [
    "#### 1D Slicing"
   ]
  },
  {
   "cell_type": "code",
   "execution_count": 22,
   "id": "b70b2f2c",
   "metadata": {},
   "outputs": [
    {
     "name": "stdout",
     "output_type": "stream",
     "text": [
      "[20 30 40]\n",
      "[10 20 30 40 50 60]\n",
      "[20 40 60]\n"
     ]
    }
   ],
   "source": [
    "arr = np.array([10, 20, 30, 40, 50, 60])\n",
    "print(arr[1:4])  # Slicing elements from index 1 to 3 (exclusive of 4)\n",
    "arr[0:]  # Slicing from the start to the end of the array\n",
    "print(arr[:])  # Slicing the entire array\n",
    "print(arr[1::2])  # Slicing every second element of the array"
   ]
  },
  {
   "cell_type": "markdown",
   "id": "f0a87352",
   "metadata": {},
   "source": [
    "#### 2D Slicing"
   ]
  },
  {
   "cell_type": "code",
   "execution_count": 23,
   "id": "9a021a74",
   "metadata": {},
   "outputs": [
    {
     "name": "stdout",
     "output_type": "stream",
     "text": [
      "[10 20 30]\n",
      "[20 50]\n",
      "[[20 30]\n",
      " [50 60]]\n"
     ]
    }
   ],
   "source": [
    "arr1 = np.array([[10, 20, 30],[40, 50, 60]])\n",
    "print(arr1[0, :])  # Accessing the first row\n",
    "print(arr1[:, 1])  # Accessing the second column\n",
    "print(arr1[0:2, 1:3])  # Slicing a sub-array from the first two rows and the second and third columns"
   ]
  },
  {
   "cell_type": "markdown",
   "id": "c8cff8f8",
   "metadata": {},
   "source": [
    "### 3. Boolean Indexing"
   ]
  },
  {
   "cell_type": "code",
   "execution_count": 24,
   "id": "7ef5e612",
   "metadata": {},
   "outputs": [
    {
     "name": "stdout",
     "output_type": "stream",
     "text": [
      "[ True  True  True False False False]\n",
      "[10 20 30]\n"
     ]
    }
   ],
   "source": [
    "arr = np.array([10, 20, 30, 40, 50, 60])\n",
    "print(arr <= 30)  # Boolean indexing to check which elements are less than or equal to 30\n",
    "print(arr[arr <= 30])  # Accessing elements that are less than or equal to 30"
   ]
  },
  {
   "cell_type": "markdown",
   "id": "8241eade",
   "metadata": {},
   "source": [
    "### 4. Fancy Indexing"
   ]
  },
  {
   "cell_type": "markdown",
   "id": "db520b51",
   "metadata": {},
   "source": [
    "#### 1D Fancy Indexing"
   ]
  },
  {
   "cell_type": "code",
   "execution_count": 25,
   "id": "222de74e",
   "metadata": {},
   "outputs": [
    {
     "name": "stdout",
     "output_type": "stream",
     "text": [
      "[10 30 50]\n"
     ]
    }
   ],
   "source": [
    "arr = np.array([10, 20, 30, 40, 50, 60])\n",
    "indexes = [0, 2, 4]\n",
    "print(arr[indexes])  # Accessing elements at specific indices"
   ]
  },
  {
   "cell_type": "markdown",
   "id": "9f8b48f9",
   "metadata": {},
   "source": [
    "#### 2D Fancy Indexing"
   ]
  },
  {
   "cell_type": "code",
   "execution_count": 26,
   "id": "2998d60f",
   "metadata": {},
   "outputs": [
    {
     "name": "stdout",
     "output_type": "stream",
     "text": [
      "[[1 2]\n",
      " [5 6]]\n"
     ]
    }
   ],
   "source": [
    "arr2d = np.array([[1, 2], [3, 4], [5, 6]])\n",
    "print(arr2d[[0, 2]])  # Rows 0 and 2"
   ]
  },
  {
   "cell_type": "markdown",
   "id": "19092f73",
   "metadata": {},
   "source": [
    "### 5. Copy vs View"
   ]
  },
  {
   "cell_type": "code",
   "execution_count": 27,
   "id": "96936d19",
   "metadata": {},
   "outputs": [
    {
     "name": "stdout",
     "output_type": "stream",
     "text": [
      "[  1 100   3   4]\n",
      "[  1 100   3   4]\n"
     ]
    }
   ],
   "source": [
    "arr = np.array([1, 2, 3, 4])\n",
    "slice_view = arr[1:3]  # View\n",
    "slice_view[0] = 100\n",
    "print(arr)  # [  1 100   3   4]  # Original changed\n",
    "\n",
    "arr_copy = arr[1:3].copy()  # Copy\n",
    "arr_copy[0] = 200\n",
    "print(arr)  # [  1 100   3   4]  # No change"
   ]
  },
  {
   "cell_type": "markdown",
   "id": "81adc372",
   "metadata": {},
   "source": [
    "# 5. ARRAY OPERATIONS"
   ]
  },
  {
   "cell_type": "markdown",
   "id": "d23d235f",
   "metadata": {},
   "source": [
    "### 1. Arithmetic Operators"
   ]
  },
  {
   "cell_type": "code",
   "execution_count": 28,
   "id": "c3877ee9",
   "metadata": {},
   "outputs": [
    {
     "name": "stdout",
     "output_type": "stream",
     "text": [
      "[ 7  9 11 13 15]\n",
      "[-5 -5 -5 -5 -5]\n",
      "[ 6 14 24 36 50]\n",
      "[0.16666667 0.28571429 0.375      0.44444444 0.5       ]\n",
      "[ 1  4  9 16 25]\n",
      "[1 2 0 1 2]\n"
     ]
    }
   ],
   "source": [
    "arr1 = np.array([1,2,3,4,5])\n",
    "arr2 = np.array([6,7,8,9,10])\n",
    "\n",
    "print(arr1 + arr2)\n",
    "print(arr1 - arr2)\n",
    "print(arr1 * arr2)\n",
    "print(arr1 / arr2)\n",
    "print(arr1 ** 2)\n",
    "print(arr1 % 3)"
   ]
  },
  {
   "cell_type": "markdown",
   "id": "8814fbb6",
   "metadata": {},
   "source": [
    "### 2. Scalar Operations"
   ]
  },
  {
   "cell_type": "code",
   "execution_count": 29,
   "id": "74d2d286",
   "metadata": {},
   "outputs": [
    {
     "name": "stdout",
     "output_type": "stream",
     "text": [
      "[11 12 13]\n",
      "[2 4 6]\n"
     ]
    }
   ],
   "source": [
    "arr = np.array([1,2,3])\n",
    "print(arr + 10)\n",
    "print(arr * 2)"
   ]
  },
  {
   "cell_type": "markdown",
   "id": "a7cad2aa",
   "metadata": {},
   "source": [
    "### 3. Logical Operations"
   ]
  },
  {
   "cell_type": "code",
   "execution_count": 30,
   "id": "3d66da9f",
   "metadata": {},
   "outputs": [
    {
     "name": "stdout",
     "output_type": "stream",
     "text": [
      "[False False  True  True  True]\n"
     ]
    }
   ],
   "source": [
    "arr = np.array([10,20,30,40,50])\n",
    "print(arr > 25)"
   ]
  },
  {
   "cell_type": "markdown",
   "id": "cdc0996d",
   "metadata": {},
   "source": [
    "#### Bonus"
   ]
  },
  {
   "cell_type": "code",
   "execution_count": 31,
   "id": "b700184c",
   "metadata": {},
   "outputs": [
    {
     "data": {
      "text/plain": [
       "array([False, False, False, False, False])"
      ]
     },
     "execution_count": 31,
     "metadata": {},
     "output_type": "execute_result"
    }
   ],
   "source": [
    "np.greater(arr, 25)\n",
    "np.less(arr, 25)\n",
    "np.equal(arr, 25)"
   ]
  },
  {
   "cell_type": "markdown",
   "id": "bb7bbe04",
   "metadata": {},
   "source": [
    "### 4. Broadcast Operators"
   ]
  },
  {
   "cell_type": "code",
   "execution_count": 32,
   "id": "556db863",
   "metadata": {},
   "outputs": [
    {
     "name": "stdout",
     "output_type": "stream",
     "text": [
      "[[11 22 33]\n",
      " [41 52 63]]\n"
     ]
    }
   ],
   "source": [
    "arr = np.array([1, 2, 3])\n",
    "matrix = np.array([[10, 20, 30],[40, 50, 60]])\n",
    "\n",
    "print(matrix + arr)\n"
   ]
  },
  {
   "cell_type": "markdown",
   "id": "98180d8c",
   "metadata": {},
   "source": [
    "### 5. In-Place Operations"
   ]
  },
  {
   "cell_type": "code",
   "execution_count": 33,
   "id": "987d8570",
   "metadata": {},
   "outputs": [
    {
     "name": "stdout",
     "output_type": "stream",
     "text": [
      "[6 7 8]\n"
     ]
    }
   ],
   "source": [
    "arr = np.array([1, 2, 3])\n",
    "arr += 5\n",
    "print(arr)"
   ]
  },
  {
   "cell_type": "markdown",
   "id": "171c2141",
   "metadata": {},
   "source": [
    "# 6. UNIVERSAL FUNCTIONS(ufuncs)"
   ]
  },
  {
   "cell_type": "markdown",
   "id": "a6ef782e",
   "metadata": {},
   "source": [
    "### "
   ]
  },
  {
   "cell_type": "markdown",
   "id": "55b2d935",
   "metadata": {},
   "source": [
    "Why ufuncs?\n",
    "\n",
    "1. Speed: Operates at C speed, no Python loops.\n",
    "2. Element-wise operations: Apply on entire arrays at once.\n",
    "3. Supports broadcasting: Works on arrays of different shapes.\n",
    "4. Supports optional parameters: e.g., out, where."
   ]
  },
  {
   "cell_type": "markdown",
   "id": "fc64c7d7",
   "metadata": {},
   "source": [
    "Types of ufuncs\n",
    "\n",
    "1. Binary ufuncs – Operate on two arrays.\n",
    "Examples: np.add(), np.subtract(), np.multiply(), np.divide()\n",
    "\n",
    "2. Unary ufuncs – Operate on one array.\n",
    "Examples: np.sqrt(), np.exp(), np.abs()"
   ]
  },
  {
   "cell_type": "markdown",
   "id": "ec0ae1b4",
   "metadata": {},
   "source": [
    "### 1. Binary ufuncs"
   ]
  },
  {
   "cell_type": "code",
   "execution_count": 34,
   "id": "d120e9b6",
   "metadata": {},
   "outputs": [
    {
     "data": {
      "text/plain": [
       "array([ 6,  7,  8,  9, 10])"
      ]
     },
     "execution_count": 34,
     "metadata": {},
     "output_type": "execute_result"
    }
   ],
   "source": [
    "arr = np.array([1, 2, 3, 4, 5])\n",
    "\n",
    "np.add(arr, 5)  # Adding 5 to each element of the array"
   ]
  },
  {
   "cell_type": "code",
   "execution_count": 35,
   "id": "c50a1d7a",
   "metadata": {},
   "outputs": [
    {
     "data": {
      "text/plain": [
       "array([-1,  0,  1,  2,  3])"
      ]
     },
     "execution_count": 35,
     "metadata": {},
     "output_type": "execute_result"
    }
   ],
   "source": [
    "np.subtract(arr, 2)  # Subtracting 2 from each element of the"
   ]
  },
  {
   "cell_type": "code",
   "execution_count": 36,
   "id": "d6dfcbc2",
   "metadata": {},
   "outputs": [
    {
     "data": {
      "text/plain": [
       "array([ 3,  6,  9, 12, 15])"
      ]
     },
     "execution_count": 36,
     "metadata": {},
     "output_type": "execute_result"
    }
   ],
   "source": [
    "np.multiply(arr, 3)  # Multiplying each element by 3"
   ]
  },
  {
   "cell_type": "code",
   "execution_count": 37,
   "id": "7516f125",
   "metadata": {},
   "outputs": [
    {
     "data": {
      "text/plain": [
       "array([0.5, 1. , 1.5, 2. , 2.5])"
      ]
     },
     "execution_count": 37,
     "metadata": {},
     "output_type": "execute_result"
    }
   ],
   "source": [
    "np.divide(arr, 2)  # Dividing each element by 2"
   ]
  },
  {
   "cell_type": "markdown",
   "id": "1e164123",
   "metadata": {},
   "source": [
    "### 2. Unary ufuncs"
   ]
  },
  {
   "cell_type": "code",
   "execution_count": 38,
   "id": "262f40e9",
   "metadata": {},
   "outputs": [
    {
     "data": {
      "text/plain": [
       "array([1., 2., 3., 4., 5.])"
      ]
     },
     "execution_count": 38,
     "metadata": {},
     "output_type": "execute_result"
    }
   ],
   "source": [
    "arr1 = np.array([1, 4, 9, 16, 25])\n",
    "\n",
    "np.sqrt(arr1)  # Square root of each element"
   ]
  },
  {
   "cell_type": "code",
   "execution_count": 39,
   "id": "af45f5bd",
   "metadata": {},
   "outputs": [
    {
     "data": {
      "text/plain": [
       "array([2.71828183e+00, 5.45981500e+01, 8.10308393e+03, 8.88611052e+06,\n",
       "       7.20048993e+10])"
      ]
     },
     "execution_count": 39,
     "metadata": {},
     "output_type": "execute_result"
    }
   ],
   "source": [
    "np.exp(arr1)  # Exponential of each element. It calculates e raised to the power of each element."
   ]
  },
  {
   "cell_type": "code",
   "execution_count": 40,
   "id": "ae416a12",
   "metadata": {},
   "outputs": [
    {
     "data": {
      "text/plain": [
       "array([ 1,  4,  9, 16, 25])"
      ]
     },
     "execution_count": 40,
     "metadata": {},
     "output_type": "execute_result"
    }
   ],
   "source": [
    "np.abs(arr1)  # Absolute value of each element. It returns the non-negative value of each element."
   ]
  },
  {
   "cell_type": "code",
   "execution_count": 41,
   "id": "f715b5b0",
   "metadata": {},
   "outputs": [
    {
     "data": {
      "text/plain": [
       "array([0.        , 1.38629436, 2.19722458, 2.77258872, 3.21887582])"
      ]
     },
     "execution_count": 41,
     "metadata": {},
     "output_type": "execute_result"
    }
   ],
   "source": [
    "np.log(arr1)  # Natural logarithm of each element. Its undefined for non-positive values."
   ]
  },
  {
   "cell_type": "markdown",
   "id": "8252c998",
   "metadata": {},
   "source": [
    "### Some other Mathematical ufuncs"
   ]
  },
  {
   "cell_type": "code",
   "execution_count": 42,
   "id": "56c65263",
   "metadata": {},
   "outputs": [
    {
     "data": {
      "text/plain": [
       "array([  1,  16,  81, 256, 625])"
      ]
     },
     "execution_count": 42,
     "metadata": {},
     "output_type": "execute_result"
    }
   ],
   "source": [
    "np.power(arr1, 2)  # Squaring each element. Raises each element to the power of 2."
   ]
  },
  {
   "cell_type": "code",
   "execution_count": 43,
   "id": "dd9177ce",
   "metadata": {},
   "outputs": [
    {
     "data": {
      "text/plain": [
       "array([1, 1, 0, 1, 1])"
      ]
     },
     "execution_count": 43,
     "metadata": {},
     "output_type": "execute_result"
    }
   ],
   "source": [
    "np.mod(arr1, 3)  # Modulus of each element with 3. Returns the remainder when each element is divided by 3."
   ]
  },
  {
   "cell_type": "code",
   "execution_count": 44,
   "id": "c02bfd29",
   "metadata": {},
   "outputs": [
    {
     "data": {
      "text/plain": [
       "array([1, 1, 1, 1, 1])"
      ]
     },
     "execution_count": 44,
     "metadata": {},
     "output_type": "execute_result"
    }
   ],
   "source": [
    "np.sign(arr1)  # Sign of each element: -1 for negative, 0 for zero, 1 for positive"
   ]
  },
  {
   "cell_type": "code",
   "execution_count": 45,
   "id": "43ea9966",
   "metadata": {},
   "outputs": [
    {
     "data": {
      "text/plain": [
       "array([ 1,  4,  9, 16, 25])"
      ]
     },
     "execution_count": 45,
     "metadata": {},
     "output_type": "execute_result"
    }
   ],
   "source": [
    "np.floor(arr1) # Floor of each element. It rounds down to the nearest integer."
   ]
  },
  {
   "cell_type": "code",
   "execution_count": 46,
   "id": "374fd893",
   "metadata": {},
   "outputs": [
    {
     "data": {
      "text/plain": [
       "array([ 1,  4,  9, 16, 25])"
      ]
     },
     "execution_count": 46,
     "metadata": {},
     "output_type": "execute_result"
    }
   ],
   "source": [
    "np.ceil(arr1)  # Ceiling of each element. It rounds up to the nearest integer."
   ]
  },
  {
   "cell_type": "markdown",
   "id": "65e18c54",
   "metadata": {},
   "source": [
    "# 7. NUMPY FOR STATISTICS"
   ]
  },
  {
   "cell_type": "code",
   "execution_count": 47,
   "id": "bc007f79",
   "metadata": {},
   "outputs": [],
   "source": [
    "arr1 = [1,2,3,4,5,6,7,8,9,10]"
   ]
  },
  {
   "cell_type": "markdown",
   "id": "235b2279",
   "metadata": {},
   "source": [
    "### 1. Basic Descriptive Statistics"
   ]
  },
  {
   "cell_type": "code",
   "execution_count": 48,
   "id": "db9c2683",
   "metadata": {},
   "outputs": [
    {
     "data": {
      "text/plain": [
       "np.float64(5.5)"
      ]
     },
     "execution_count": 48,
     "metadata": {},
     "output_type": "execute_result"
    }
   ],
   "source": [
    "np.mean(arr1)  # Mean (average) of the array elements"
   ]
  },
  {
   "cell_type": "code",
   "execution_count": 49,
   "id": "940b5c4e",
   "metadata": {},
   "outputs": [
    {
     "data": {
      "text/plain": [
       "np.float64(5.5)"
      ]
     },
     "execution_count": 49,
     "metadata": {},
     "output_type": "execute_result"
    }
   ],
   "source": [
    "np.median(arr1)  # Median (middle value) of the array elements"
   ]
  },
  {
   "cell_type": "code",
   "execution_count": null,
   "id": "e1ea70ae",
   "metadata": {},
   "outputs": [
    {
     "data": {
      "text/plain": [
       "np.float64(2.8722813232690143)"
      ]
     },
     "execution_count": 51,
     "metadata": {},
     "output_type": "execute_result"
    }
   ],
   "source": [
    "np.std(arr1) # Standard deviation of the array elements"
   ]
  },
  {
   "cell_type": "code",
   "execution_count": 52,
   "id": "c86a96f3",
   "metadata": {},
   "outputs": [
    {
     "data": {
      "text/plain": [
       "np.float64(8.25)"
      ]
     },
     "execution_count": 52,
     "metadata": {},
     "output_type": "execute_result"
    }
   ],
   "source": [
    "np.var(arr1) # Variance of the array elements"
   ]
  },
  {
   "cell_type": "markdown",
   "id": "be186e69",
   "metadata": {},
   "source": [
    "### 2. Percentiles and Quantiles"
   ]
  },
  {
   "cell_type": "code",
   "execution_count": 53,
   "id": "2e968785",
   "metadata": {},
   "outputs": [
    {
     "data": {
      "text/plain": [
       "np.float64(3.25)"
      ]
     },
     "execution_count": 53,
     "metadata": {},
     "output_type": "execute_result"
    }
   ],
   "source": [
    "np.percentile(arr1, 25)  # 25th percentile of the array elements"
   ]
  },
  {
   "cell_type": "code",
   "execution_count": 54,
   "id": "fcdc1f6c",
   "metadata": {},
   "outputs": [
    {
     "data": {
      "text/plain": [
       "np.float64(5.5)"
      ]
     },
     "execution_count": 54,
     "metadata": {},
     "output_type": "execute_result"
    }
   ],
   "source": [
    "np.percentile(arr1, 50)  # 50th percentile (median)"
   ]
  },
  {
   "cell_type": "code",
   "execution_count": 55,
   "id": "e60fa458",
   "metadata": {},
   "outputs": [
    {
     "data": {
      "text/plain": [
       "np.float64(7.75)"
      ]
     },
     "execution_count": 55,
     "metadata": {},
     "output_type": "execute_result"
    }
   ],
   "source": [
    "np.percentile(arr1, 75)  # 75th percentile (median)"
   ]
  },
  {
   "cell_type": "markdown",
   "id": "2f396561",
   "metadata": {},
   "source": [
    "### 3. Correlation & Covariance"
   ]
  },
  {
   "cell_type": "code",
   "execution_count": 57,
   "id": "6759b346",
   "metadata": {},
   "outputs": [],
   "source": [
    "x = np.array([1,2,3,4,5])\n",
    "y = np.array([2,4,6,8,10])"
   ]
  },
  {
   "cell_type": "code",
   "execution_count": 58,
   "id": "dcb27f93",
   "metadata": {},
   "outputs": [
    {
     "name": "stdout",
     "output_type": "stream",
     "text": [
      "[[1. 1.]\n",
      " [1. 1.]]\n"
     ]
    }
   ],
   "source": [
    "print(np.corrcoef(x, y))  # Correlation coefficient matrix"
   ]
  },
  {
   "cell_type": "code",
   "execution_count": 59,
   "id": "75488c89",
   "metadata": {},
   "outputs": [
    {
     "name": "stdout",
     "output_type": "stream",
     "text": [
      "[[ 2.5  5. ]\n",
      " [ 5.  10. ]]\n"
     ]
    }
   ],
   "source": [
    "print(np.cov(x, y))  # Covariance matrix"
   ]
  },
  {
   "cell_type": "code",
   "execution_count": null,
   "id": "634e0b28",
   "metadata": {},
   "outputs": [],
   "source": []
  }
 ],
 "metadata": {
  "kernelspec": {
   "display_name": "Python 3",
   "language": "python",
   "name": "python3"
  },
  "language_info": {
   "codemirror_mode": {
    "name": "ipython",
    "version": 3
   },
   "file_extension": ".py",
   "mimetype": "text/x-python",
   "name": "python",
   "nbconvert_exporter": "python",
   "pygments_lexer": "ipython3",
   "version": "3.13.5"
  }
 },
 "nbformat": 4,
 "nbformat_minor": 5
}
