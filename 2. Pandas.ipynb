{
 "cells": [
  {
   "cell_type": "markdown",
   "id": "2cbe26e2",
   "metadata": {},
   "source": [
    "# Pandas Course - From Beginning to Advanced"
   ]
  },
  {
   "cell_type": "markdown",
   "id": "1db340d0",
   "metadata": {},
   "source": [
    "# Section 1: Introduction to Pandas"
   ]
  },
  {
   "cell_type": "markdown",
   "id": "5912caf7",
   "metadata": {},
   "source": [
    "## 1.1 What is Pandas?"
   ]
  },
  {
   "cell_type": "markdown",
   "id": "fab33f8f",
   "metadata": {},
   "source": [
    "##### 1. Pandas is a Python library for data analysis and manipulation.\n",
    "##### 2. Built on NumPy, widely used in Data Science, Machine Learning, and Data Analytics.\n",
    "##### 3. Works with tabular data (rows & columns) just like Excel."
   ]
  },
  {
   "cell_type": "markdown",
   "id": "56ebe0f4",
   "metadata": {},
   "source": [
    "# 1.2 Why Pandas is Important for DS & DA?"
   ]
  },
  {
   "cell_type": "markdown",
   "id": "d27705f9",
   "metadata": {},
   "source": [
    "##### ✔ Makes data cleaning easy\n",
    "##### ✔ Powerful data analysis & manipulation\n",
    "##### ✔ Works with various data formats (CSV, Excel, SQL, JSON)\n",
    "##### ✔ Essential for Exploratory Data Analysis (EDA)\n",
    "##### ✔ Used in feature engineering for Machine Learning"
   ]
  },
  {
   "cell_type": "markdown",
   "id": "f0b25297",
   "metadata": {},
   "source": [
    "# Installation of Pandas?"
   ]
  },
  {
   "cell_type": "markdown",
   "id": "dbda3767",
   "metadata": {},
   "source": [
    "Paste this command in your cmd."
   ]
  },
  {
   "cell_type": "code",
   "execution_count": 13,
   "id": "51594af7",
   "metadata": {
    "vscode": {
     "languageId": "powershell"
    }
   },
   "outputs": [
    {
     "name": "stdout",
     "output_type": "stream",
     "text": [
      "Requirement already satisfied: pandas in c:\\users\\sagni\\appdata\\local\\programs\\python\\python313\\lib\\site-packages (2.3.0)\n",
      "Requirement already satisfied: numpy>=1.26.0 in c:\\users\\sagni\\appdata\\local\\programs\\python\\python313\\lib\\site-packages (from pandas) (2.2.6)\n",
      "Requirement already satisfied: python-dateutil>=2.8.2 in c:\\users\\sagni\\appdata\\local\\programs\\python\\python313\\lib\\site-packages (from pandas) (2.9.0.post0)\n",
      "Requirement already satisfied: pytz>=2020.1 in c:\\users\\sagni\\appdata\\local\\programs\\python\\python313\\lib\\site-packages (from pandas) (2025.2)\n",
      "Requirement already satisfied: tzdata>=2022.7 in c:\\users\\sagni\\appdata\\local\\programs\\python\\python313\\lib\\site-packages (from pandas) (2025.2)\n",
      "Requirement already satisfied: six>=1.5 in c:\\users\\sagni\\appdata\\local\\programs\\python\\python313\\lib\\site-packages (from python-dateutil>=2.8.2->pandas) (1.17.0)\n",
      "Note: you may need to restart the kernel to use updated packages.\n"
     ]
    }
   ],
   "source": [
    "pip install pandas"
   ]
  },
  {
   "cell_type": "markdown",
   "id": "582e6f02",
   "metadata": {},
   "source": [
    "To verify, if it is installed perfectly or not, use this Command."
   ]
  },
  {
   "cell_type": "code",
   "execution_count": 14,
   "id": "b41ab2ac",
   "metadata": {},
   "outputs": [
    {
     "name": "stdout",
     "output_type": "stream",
     "text": [
      "2.3.0\n"
     ]
    }
   ],
   "source": [
    "import pandas as pd\n",
    "print(pd.__version__)"
   ]
  },
  {
   "cell_type": "code",
   "execution_count": 15,
   "id": "4919a1bc",
   "metadata": {},
   "outputs": [
    {
     "name": "stdout",
     "output_type": "stream",
     "text": [
      "Shape of DataFrame: (3, 3)\n",
      "Size of DataFrame: 9\n",
      "__________________________________________\n",
      "<class 'pandas.core.frame.DataFrame'>\n",
      "RangeIndex: 3 entries, 0 to 2\n",
      "Data columns (total 3 columns):\n",
      " #   Column  Non-Null Count  Dtype \n",
      "---  ------  --------------  ----- \n",
      " 0   Name    3 non-null      object\n",
      " 1   Age     3 non-null      int64 \n",
      " 2   City    3 non-null      object\n",
      "dtypes: int64(1), object(2)\n",
      "memory usage: 204.0+ bytes\n",
      "Information about DataFrame: None\n"
     ]
    }
   ],
   "source": [
    "data = {\n",
    "    'Name': ['Alice', 'Bob', 'Charlie'],\n",
    "    'Age': [25, 30, 35],\n",
    "    'City': ['New York', 'Los Angeles', 'Chicago']\n",
    "}\n",
    "\n",
    "data = pd.DataFrame(data)\n",
    "print(\"Shape of DataFrame:\", data.shape)\n",
    "print(\"Size of DataFrame:\", data.size)\n",
    "print(\"__________________________________________\")\n",
    "print(\"Information about DataFrame:\", data.info())"
   ]
  },
  {
   "cell_type": "code",
   "execution_count": 16,
   "id": "6d13cd19",
   "metadata": {},
   "outputs": [
    {
     "name": "stdout",
     "output_type": "stream",
     "text": [
      "      Name  Age         City\n",
      "0    Alice   25     New York\n",
      "1      Bob   30  Los Angeles\n",
      "2  Charlie   35      Chicago\n"
     ]
    }
   ],
   "source": [
    "print(data.head())       # First 5 rows"
   ]
  },
  {
   "cell_type": "code",
   "execution_count": 17,
   "id": "cfbbc462",
   "metadata": {},
   "outputs": [
    {
     "name": "stdout",
     "output_type": "stream",
     "text": [
      "      Name  Age         City\n",
      "0    Alice   25     New York\n",
      "1      Bob   30  Los Angeles\n",
      "2  Charlie   35      Chicago\n"
     ]
    }
   ],
   "source": [
    "print(data.tail())       # Last 5 rows"
   ]
  },
  {
   "cell_type": "code",
   "execution_count": 18,
   "id": "dfbd4cf8",
   "metadata": {},
   "outputs": [
    {
     "name": "stdout",
     "output_type": "stream",
     "text": [
      "        Age\n",
      "count   3.0\n",
      "mean   30.0\n",
      "std     5.0\n",
      "min    25.0\n",
      "25%    27.5\n",
      "50%    30.0\n",
      "75%    32.5\n",
      "max    35.0\n"
     ]
    }
   ],
   "source": [
    "print(data.describe())   # Summary statistics for numeric columns"
   ]
  },
  {
   "cell_type": "code",
   "execution_count": 19,
   "id": "9b090564",
   "metadata": {},
   "outputs": [
    {
     "name": "stdout",
     "output_type": "stream",
     "text": [
      "Name    object\n",
      "Age      int64\n",
      "City    object\n",
      "dtype: object\n"
     ]
    }
   ],
   "source": [
    "print(data.dtypes)       # Data types of each column"
   ]
  }
 ],
 "metadata": {
  "kernelspec": {
   "display_name": "Python 3",
   "language": "python",
   "name": "python3"
  },
  "language_info": {
   "codemirror_mode": {
    "name": "ipython",
    "version": 3
   },
   "file_extension": ".py",
   "mimetype": "text/x-python",
   "name": "python",
   "nbconvert_exporter": "python",
   "pygments_lexer": "ipython3",
   "version": "3.13.5"
  }
 },
 "nbformat": 4,
 "nbformat_minor": 5
}
